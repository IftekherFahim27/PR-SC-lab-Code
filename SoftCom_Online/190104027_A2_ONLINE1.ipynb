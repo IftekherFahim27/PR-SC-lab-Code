{
  "nbformat": 4,
  "nbformat_minor": 0,
  "metadata": {
    "colab": {
      "provenance": []
    },
    "kernelspec": {
      "name": "python3",
      "display_name": "Python 3"
    },
    "language_info": {
      "name": "python"
    }
  },
  "cells": [
    {
      "cell_type": "code",
      "execution_count": null,
      "metadata": {
        "id": "T2GWVu1AQks1"
      },
      "outputs": [],
      "source": [
        "import torch"
      ]
    },
    {
      "cell_type": "code",
      "source": [
        "y=torch.tensor([[2,3,6,7,4],[3,5,7,9,10],[6,7,8,9,12]])\n",
        "print(y)\n",
        "print(y[-2:-1:1,-4:-3:1])"
      ],
      "metadata": {
        "colab": {
          "base_uri": "https://localhost:8080/"
        },
        "id": "j-SG8_AVQuxk",
        "outputId": "8e11e527-78f9-486b-e56d-8200daa968fb"
      },
      "execution_count": null,
      "outputs": [
        {
          "output_type": "stream",
          "name": "stdout",
          "text": [
            "tensor([[ 2,  3,  6,  7,  4],\n",
            "        [ 3,  5,  7,  9, 10],\n",
            "        [ 6,  7,  8,  9, 12]])\n",
            "tensor([[5]])\n"
          ]
        }
      ]
    },
    {
      "cell_type": "code",
      "source": [
        "import numpy as np\n",
        "\n"
      ],
      "metadata": {
        "id": "Pic7NFNGRNJB"
      },
      "execution_count": null,
      "outputs": []
    },
    {
      "cell_type": "code",
      "source": [
        "A=np.random.random((3,3))\n",
        "B=np.random.random((3,3))\n",
        "print(X)\n",
        "print(M)\n",
        "\n",
        "c=A.T\n",
        "d=c@A\n",
        "h=d+B\n",
        "print(h)"
      ],
      "metadata": {
        "colab": {
          "base_uri": "https://localhost:8080/"
        },
        "id": "Bsvo-xgcRf_L",
        "outputId": "c462ed2f-1b5a-4224-b75e-ca9c72e7f9e8"
      },
      "execution_count": null,
      "outputs": [
        {
          "output_type": "stream",
          "name": "stdout",
          "text": [
            "[[0.87466168 0.64626485 0.72331696]\n",
            " [0.94368964 0.31050134 0.70510954]\n",
            " [0.38086106 0.19666595 0.84246874]]\n",
            "[[0.19500001 0.1755254  0.31195512]\n",
            " [0.10969374 0.20071226 0.39733731]\n",
            " [0.23163233 0.11694897 0.7988296 ]]\n",
            "[[1.15230072 0.92032124 0.63696175]\n",
            " [1.56101421 1.61987995 1.4416469 ]\n",
            " [0.69926996 0.90633174 0.96897577]]\n"
          ]
        }
      ]
    }
  ]
}